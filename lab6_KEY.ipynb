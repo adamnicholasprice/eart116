{
 "cells": [
  {
   "cell_type": "markdown",
   "metadata": {},
   "source": [
    "### Eart 116 Hydrology\n",
    "#### Lab 6, Hydrographs and Hydrologic Computing"
   ]
  },
  {
   "cell_type": "markdown",
   "metadata": {},
   "source": [
    "Scientific coding is an important skill to hone.\n",
    "\n",
    "We will be utilizing a programming langauge called R! No it wasn't developed by pirates (sorry had to)! R is orginally a statistical computing langauge first developed in the early 90's. Today R is one of the most widely used languages in STEM computing. A big key to the R langauge's success is that it is an \"open-source\" code, that means that developers, scienctists, or your grandma could write a package of code and contribute to the development of R. Additionally, R is free, everyone likes free!\n",
    "\n",
    "![](lab_photos/pirate.png)\n",
    "\n",
    "Today, we will be using open source R packages from the USGS to learn about stream flow. I will include links where I can to the packages if you are interested!\n",
    "\n",
    "Lets get started!"
   ]
  },
  {
   "cell_type": "markdown",
   "metadata": {},
   "source": [
    "## The goal of today's lab is to determine the location of the 3 unknown streamgages by analyzing temporal trends, magnitudes, and simple statistics from publically available USGS NWIS data. AKA. Where in the World are these gauges located?\n",
    "\n",
    "Please answer the following questions, print out a copy of your lab, and upload a copy of your Jupyter Notebook to Canvas. The last two steps were outlined in the mandatory prelab."
   ]
  },
  {
   "cell_type": "markdown",
   "metadata": {},
   "source": [
    "## First, we need to load the packages that we will be using today.\n",
    "\n",
    "As with any coding language, you need to setup your environment. Loading packages is like getting out the applicances neccesacy to make cookies. We will need the mixer and the oven so we will load those packages. Loading more packages than you need will clutter the kitchen (code) and make your code run very slow. "
   ]
  },
  {
   "cell_type": "code",
   "execution_count": null,
   "metadata": {},
   "outputs": [],
   "source": [
    "#####Load packages here####\n",
    "library(ggplot2)\n",
    "library(reshape2)\n",
    "library(dataRetrieval) #This is the open source package from the USGS \"dataRetreival\"\n",
    "source(\"functions/functions.R\") # These are pre-canned functions that I have made. Look in the functions folder if you are interested in these."
   ]
  },
  {
   "cell_type": "markdown",
   "metadata": {},
   "source": [
    "The first thing we will be doing is downloading all the data that we will be using today. As you remember from previous labs, downloading hydrologic data manually can be time consuming and confusing. These commands make it easy and formats your data into easy to use tables.\n",
    "\n",
    "An example of the function is below\n",
    "\n",
    "site_name = readNWISdata(sites='sitenumber',service='typeofdata',startDate=\"YYYY-MM-DD\",endDate=\"YYYY-MM-DD\")\n",
    "\n",
    "Where:\n",
    "site_name = is the name of your site. This must be unique and make sense to anyone who might use (or grade) your code in the future.\n",
    "sitenumber = the site number deliniated by the usgs. MUST BE IN QUOTES\n",
    "service = this is the type of data you want to use. In our case we will be using daily values which can be specified by service='dv' .\n",
    "startDate = the day you want to begin pulling your streamflow data from. MUST BE IN QUOTES and the format is \"YYYY-MM-DD\" . So September 30, 1980 would be \"1980-09-30\"\n",
    "endDate = pretty self explanitory\n"
   ]
  },
  {
   "cell_type": "markdown",
   "metadata": {},
   "source": [
    "## Question 1\n",
    "\n",
    "In the code box below I have given you an example line of code pulling in data from the Piedra River Gauge '09349800\". \n",
    "\n",
    "Use the next 3 lines of code to read in the streaflow data from the 3 unknown sites for WY2018:\n",
    "- 09402000\n",
    "- 07010000\n",
    "- 09380000"
   ]
  },
  {
   "cell_type": "code",
   "execution_count": null,
   "metadata": {},
   "outputs": [],
   "source": [
    "piedra = ap_readNWISdata(sites='09349800',service='dv',startDate=\"2017-10-01\",endDate=\"2018-09-30\")\n",
    "lcolo = ap_readNWISdata(sites='09402000',service='dv',startDate=\"2017-10-01\",endDate=\"2018-09-30\")\n",
    "miss = ap_readNWISdata(sites='07010000',service='dv',startDate=\"2017-10-01\",endDate=\"2018-09-30\")\n",
    "gc = ap_readNWISdata(sites='09380000',service='dv',startDate=\"2017-10-01\",endDate=\"2018-09-30\")"
   ]
  },
  {
   "cell_type": "code",
   "execution_count": null,
   "metadata": {},
   "outputs": [],
   "source": [
    "ap_plot(piedra,lcolo,miss,gc)"
   ]
  },
  {
   "cell_type": "markdown",
   "metadata": {},
   "source": [
    "## Question 1 Discussion"
   ]
  },
  {
   "cell_type": "markdown",
   "metadata": {},
   "source": [
    "## What are the temporal differences you observe in the 4 plots above? I.E. Do certain rivers all have high or low flow at the same time periods?\n",
    "\n",
    "Input answer here by double clicking this box and typing below. Once you are satisfied with your answer click the next button at the top of the jupyter notebook or shift+enter to render this cell! You can always reenter this box by double clicking on it again.\n"
   ]
  },
  {
   "cell_type": "markdown",
   "metadata": {},
   "source": []
  },
  {
   "cell_type": "markdown",
   "metadata": {},
   "source": [
    "## What differences do you observe in the magnitude of the flows? "
   ]
  },
  {
   "cell_type": "markdown",
   "metadata": {},
   "source": []
  },
  {
   "cell_type": "markdown",
   "metadata": {},
   "source": [
    "## Make a guess to what landscapes these streamgauges may represent. I.E. High mountain stream, Big Lowland River"
   ]
  },
  {
   "cell_type": "markdown",
   "metadata": {},
   "source": []
  },
  {
   "cell_type": "markdown",
   "metadata": {},
   "source": [
    "# Question 2"
   ]
  },
  {
   "cell_type": "markdown",
   "metadata": {},
   "source": [
    "### Getting Data For Multiple WY: Looking at Seasonality\n",
    "\n",
    "A very powerful tool of the dataRetreival packages is the abilty to import multiple water years worth of data for comparison. In the cell below, using the ap_multiyear function I am bringing in 5 water years worth of data from the Piedra River. The arguments you must use are the same as the previous question, and the function will automatically import the data for you."
   ]
  },
  {
   "cell_type": "code",
   "execution_count": null,
   "metadata": {},
   "outputs": [],
   "source": [
    "piedra_multiyear = ap_multiyear(sites='09349800',service='dv',startDate='2017-10-01',endDate='2018-09-30')"
   ]
  },
  {
   "cell_type": "markdown",
   "metadata": {},
   "source": [
    "### In the cell below, \n",
    "\n",
    "Use the next 3 lines of code to read in the streaflow data from the 3 unknown sites starting WY2018.\n",
    "\n",
    "Note: This program displays non-fatal errors. Ignore these :)"
   ]
  },
  {
   "cell_type": "code",
   "execution_count": null,
   "metadata": {},
   "outputs": [],
   "source": [
    "piedra_multiyear = ap_multiyear(sites='09349800',service='dv',startDate='2017-10-01',endDate='2018-09-30')\n",
    "lcolo_multiyear = ap_multiyear(sites='09402000',service='dv',startDate='2017-10-01',endDate='2018-09-30')\n",
    "miss_multiyear = ap_multiyear(sites='07010000',service='dv',startDate='2017-10-01',endDate='2018-09-30')\n",
    "gc_multiyear = ap_multiyear(sites='09380000',service='dv',startDate='2017-10-01',endDate='2018-09-30')"
   ]
  },
  {
   "cell_type": "markdown",
   "metadata": {},
   "source": [
    "#### Using the summary() function from the prelab, find the median, mean, maximum, and minimum for all 4 datasets. "
   ]
  },
  {
   "cell_type": "code",
   "execution_count": null,
   "metadata": {},
   "outputs": [],
   "source": [
    "summary(piedra_multiyear)"
   ]
  },
  {
   "cell_type": "code",
   "execution_count": null,
   "metadata": {},
   "outputs": [],
   "source": [
    "summary(lcolo_multiyear$value)"
   ]
  },
  {
   "cell_type": "code",
   "execution_count": null,
   "metadata": {},
   "outputs": [],
   "source": [
    "summary(miss_multiyear$value)"
   ]
  },
  {
   "cell_type": "code",
   "execution_count": null,
   "metadata": {},
   "outputs": [],
   "source": [
    "summary(gc_multiyear$value)"
   ]
  },
  {
   "cell_type": "markdown",
   "metadata": {},
   "source": [
    "Using the ap_multiyear_plot function below, plot all the gauges."
   ]
  },
  {
   "cell_type": "code",
   "execution_count": null,
   "metadata": {},
   "outputs": [],
   "source": [
    "ap_multiyear_plot(piedra_multiyear,lcolo_multiyear,miss_multiyear,gc_multiyear)"
   ]
  },
  {
   "cell_type": "markdown",
   "metadata": {},
   "source": [
    "## Question 2 Discussion"
   ]
  },
  {
   "cell_type": "markdown",
   "metadata": {},
   "source": [
    "Using the summary statistics above, describe the differences between gauges. I.E. Which gauge has the highest median flow, widest distribution(spread of quantiles realitive to the mean), note max flows, etc)."
   ]
  },
  {
   "cell_type": "markdown",
   "metadata": {},
   "source": []
  },
  {
   "cell_type": "markdown",
   "metadata": {},
   "source": [
    "Looking at the plot of WY for all 4 gauges you can see they all exhibit different seasonalities. Discribe the temporal trends (seasonality, diurnal fluctuations, correlation to horoscope (hehe), etc) for all 4 gauges below"
   ]
  },
  {
   "cell_type": "markdown",
   "metadata": {},
   "source": []
  },
  {
   "cell_type": "markdown",
   "metadata": {},
   "source": [
    "Given more information make another guess to what landscapes these streamgauges may represent. I.E. High mountain stream, Big Lowland River"
   ]
  },
  {
   "cell_type": "markdown",
   "metadata": {},
   "source": []
  },
  {
   "cell_type": "markdown",
   "metadata": {},
   "source": [
    "## Question 3"
   ]
  },
  {
   "cell_type": "markdown",
   "metadata": {},
   "source": [
    "The final task is to look at the historical record of maximum flows for the gauges. Looking at when maximum flows occur can tell us important information about how and when these streams receieve the most streamflow generating precipitation.\n",
    "\n",
    "I have made a function that reads in the maximum velcocity and corresponding date for that velocity. The cell below reads in data for the Peidra River and prints that data. Run the cell below."
   ]
  },
  {
   "cell_type": "markdown",
   "metadata": {},
   "source": [
    "Alter the next three cells of code to read in the peak values and dates for the 3 unknown gauges and print them to the screen."
   ]
  },
  {
   "cell_type": "code",
   "execution_count": null,
   "metadata": {},
   "outputs": [],
   "source": [
    "piedra_peak = ap_readNWISpeak('09349800')\n",
    "lcolo_peak = ap_readNWISpeak(siteNumber='09402000')\n",
    "miss_peak = ap_readNWISpeak(siteNumber='07010000')\n",
    "gc_peak = ap_readNWISpeak(siteNumber='09380000')\n",
    "print(piedra_peak)\n",
    "print(lcolo_peak)\n",
    "print(miss_peak)\n",
    "print(gc_peak)"
   ]
  },
  {
   "cell_type": "markdown",
   "metadata": {},
   "source": [
    "## Question 3 Discussion:"
   ]
  },
  {
   "cell_type": "markdown",
   "metadata": {},
   "source": [
    "Why do you think that the Piedra River gauge peaks at the same time every year? (Hint: https://water.usgs.gov/edu/watercyclesnowmelt.html ) And why are the peaks variable from year to year?"
   ]
  },
  {
   "cell_type": "markdown",
   "metadata": {},
   "source": []
  },
  {
   "cell_type": "markdown",
   "metadata": {},
   "source": [
    "If you look closely at gauge 09380000 there is a date where the peak discharge changes from May - June and becomes variable. Why do you think this is? (Hint: Look at the box shape of the peaks of from the hydrograph of this site. What is that caused by?)"
   ]
  },
  {
   "cell_type": "markdown",
   "metadata": {},
   "source": []
  },
  {
   "cell_type": "markdown",
   "metadata": {},
   "source": [
    "When do most of the peak flows occur at gauge 09402000? What meterological event occurs this time of year? (Hint: Look at this article https://www.weather.gov/abq/northamericanmonsoon-intro or/and watch this video https://www.youtube.com/watch?v=_VD5GxluHN8 !"
   ]
  },
  {
   "cell_type": "markdown",
   "metadata": {},
   "source": []
  },
  {
   "cell_type": "markdown",
   "metadata": {},
   "source": [
    "Given even more information make another guess to what landscapes these streamgauges may represent. I.E. High mountain stream, Big Lowland River"
   ]
  },
  {
   "cell_type": "markdown",
   "metadata": {},
   "source": []
  },
  {
   "cell_type": "markdown",
   "metadata": {},
   "source": [
    "## Final Question"
   ]
  },
  {
   "cell_type": "markdown",
   "metadata": {},
   "source": [
    "This final line of code will lead us back to the question that we posed at the beginning of the lab, \"Where in the World are these gauges\"? Execute the cell below "
   ]
  },
  {
   "cell_type": "code",
   "execution_count": null,
   "metadata": {},
   "outputs": [],
   "source": [
    "piedra =readNWISsite ('09349800')\n",
    "unknown1 =readNWISsite ('09402000')\n",
    "unknown2 =readNWISsite ('07010000')\n",
    "unknown3 =readNWISsite ('09380000')\n",
    "\n",
    "\n",
    "print(piedra$station_nm)\n",
    "print(unknown1$station_nm)\n",
    "print(unknown2$station_nm)\n",
    "print(unknown3$station_nm)"
   ]
  },
  {
   "cell_type": "markdown",
   "metadata": {},
   "source": [
    "### Using the search engine of your choice, the data above, and the answers to your questions above give a brief summary of what drives the shape of the hydrograph, timing of maximum/minimum flows, and primary soruce of stream flow for each location."
   ]
  },
  {
   "cell_type": "markdown",
   "metadata": {},
   "source": []
  },
  {
   "cell_type": "markdown",
   "metadata": {},
   "source": [
    "## Bonus Question (15 pts)"
   ]
  },
  {
   "cell_type": "markdown",
   "metadata": {},
   "source": [
    "Baseflow"
   ]
  },
  {
   "cell_type": "code",
   "execution_count": null,
   "metadata": {},
   "outputs": [],
   "source": []
  }
 ],
 "metadata": {
  "kernelspec": {
   "display_name": "R",
   "language": "R",
   "name": "ir"
  },
  "language_info": {
   "codemirror_mode": "r",
   "file_extension": ".r",
   "mimetype": "text/x-r-source",
   "name": "R",
   "pygments_lexer": "r",
   "version": "3.5.1"
  }
 },
 "nbformat": 4,
 "nbformat_minor": 2
}
